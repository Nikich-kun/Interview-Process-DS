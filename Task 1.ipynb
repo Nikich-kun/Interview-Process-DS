{
 "cells": [
  {
   "cell_type": "markdown",
   "metadata": {},
   "source": [
    "# Task 1:\n",
    "a. A common security method used for online banking is to ask the user for three random characters from a passcode. For example, if the passcode was 531278, they may ask for the 2nd, 3rd, and 5th characters; the expected reply would be: 317.\n",
    "\n",
    "b. The text file, keylog.txt (attached), contains fifty successful login attempts.\n",
    "\n",
    "c. Given that the three characters are always asked for in order, analyze the file so as to determine the shortest possible secret passcode of unknown length.\n",
    "___"
   ]
  },
  {
   "cell_type": "markdown",
   "metadata": {},
   "source": [
    "# Solution"
   ]
  },
  {
   "cell_type": "markdown",
   "metadata": {},
   "source": [
    "Read file and import defaultdict function"
   ]
  },
  {
   "cell_type": "code",
   "execution_count": 1,
   "metadata": {},
   "outputs": [],
   "source": [
    "from collections import defaultdict\n",
    "\n",
    "df = open('keylog.txt').readlines() # read file but need \\n remove\n",
    "keylog = [line.strip() for line in df] # list with separate values"
   ]
  },
  {
   "cell_type": "markdown",
   "metadata": {},
   "source": [
    "A defaultdict works exactly like a normal dict, but it is initialized with a function (“default factory”) that takes no arguments and provides the default value for a nonexistent key."
   ]
  },
  {
   "cell_type": "code",
   "execution_count": 2,
   "metadata": {},
   "outputs": [],
   "source": [
    "df_dict = defaultdict(list)\n",
    "for i in keylog:\n",
    "    for j, n in enumerate(i):# separate index and value\n",
    "        df_dict[n].append(j)"
   ]
  },
  {
   "cell_type": "markdown",
   "metadata": {},
   "source": [
    "Result in defaultdict where every unique value and index in a row from keylog\n",
    "\n",
    "result can see next block"
   ]
  },
  {
   "cell_type": "code",
   "execution_count": 3,
   "metadata": {},
   "outputs": [
    {
     "name": "stdout",
     "output_type": "stream",
     "text": [
      "3 [0, 0, 0, 1, 1, 0, 0, 0, 0, 0, 0, 0, 0, 0]\n",
      "1 [1, 0, 0, 1, 1, 1, 0, 0, 1, 2, 1, 1, 1, 1, 0, 0, 1, 1, 1, 1, 1, 1]\n",
      "9 [2, 1, 2, 2, 2, 2, 2, 2, 2, 2, 1, 2, 2, 2, 2, 2, 1, 1, 2, 2, 2]\n",
      "6 [0, 0, 0, 1, 0, 1, 1, 0, 1, 1, 0, 2, 2, 2, 1, 0, 1, 1, 0, 1, 1, 2, 2]\n",
      "8 [1, 1, 1, 2, 2, 2, 1, 1, 2, 1, 1, 2, 1, 0, 1, 2]\n",
      "0 [2, 2, 2, 2, 2, 2, 2, 2, 2, 2, 2, 2, 2, 2, 2, 2]\n",
      "2 [1, 1, 2, 2, 1, 1, 1, 1, 1, 0, 2, 0, 2, 1, 2, 1, 1]\n",
      "7 [0, 0, 0, 0, 0, 0, 0, 0, 0, 0, 0, 0, 0, 0, 0, 0, 0, 0, 0, 0, 0]\n"
     ]
    }
   ],
   "source": [
    "dict_it = list(df_dict.items())\n",
    "#show result\n",
    "for k,v in dict_it:\n",
    "    print(k,v)"
   ]
  },
  {
   "cell_type": "markdown",
   "metadata": {},
   "source": [
    "So next will be the last step calculate average value for every unique element and all that remains is sort average value descending"
   ]
  },
  {
   "cell_type": "code",
   "execution_count": 4,
   "metadata": {},
   "outputs": [],
   "source": [
    "avr_positions = {}\n",
    "for k,v in dict_it:\n",
    "    avr_positions[k] = float(sum(v))/float(len(v))"
   ]
  },
  {
   "cell_type": "markdown",
   "metadata": {},
   "source": [
    "So there can see that 7 will be first (wich 0.0 average value), next 3 (0.14) and last will be 0 because have maximal value"
   ]
  },
  {
   "cell_type": "code",
   "execution_count": 5,
   "metadata": {},
   "outputs": [
    {
     "data": {
      "text/plain": [
       "{'3': 0.14285714285714285,\n",
       " '1': 0.7727272727272727,\n",
       " '9': 1.8095238095238095,\n",
       " '6': 0.8695652173913043,\n",
       " '8': 1.3125,\n",
       " '0': 2.0,\n",
       " '2': 1.1764705882352942,\n",
       " '7': 0.0}"
      ]
     },
     "execution_count": 5,
     "metadata": {},
     "output_type": "execute_result"
    }
   ],
   "source": [
    "avr_positions"
   ]
  },
  {
   "cell_type": "markdown",
   "metadata": {},
   "source": [
    "Let's sort"
   ]
  },
  {
   "cell_type": "code",
   "execution_count": 6,
   "metadata": {},
   "outputs": [
    {
     "name": "stdout",
     "output_type": "stream",
     "text": [
      "['7', '3', '1', '6', '2', '8', '9', '0']\n"
     ]
    }
   ],
   "source": [
    "sort_it = sorted(list(avr_positions.items()), key=lambda x: x[1])\n",
    "a = [i for i,j in sort_it]\n",
    "print(a)"
   ]
  },
  {
   "cell_type": "markdown",
   "metadata": {},
   "source": [
    "Answer: 73162890\n",
    "___"
   ]
  }
 ],
 "metadata": {
  "kernelspec": {
   "display_name": "Python 3",
   "language": "python",
   "name": "python3"
  },
  "language_info": {
   "codemirror_mode": {
    "name": "ipython",
    "version": 3
   },
   "file_extension": ".py",
   "mimetype": "text/x-python",
   "name": "python",
   "nbconvert_exporter": "python",
   "pygments_lexer": "ipython3",
   "version": "3.7.1"
  }
 },
 "nbformat": 4,
 "nbformat_minor": 2
}
