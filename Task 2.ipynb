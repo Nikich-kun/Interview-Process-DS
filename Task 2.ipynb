{
 "cells": [
  {
   "cell_type": "markdown",
   "metadata": {},
   "source": [
    "# Task 2:\n",
    "a. 70 coloured balls are placed in an urn, 10 for each of the seven rainbow colours. What is the expected number of distinct colours in 20 randomly picked balls?\n",
    "___"
   ]
  },
  {
   "cell_type": "markdown",
   "metadata": {},
   "source": [
    "# Solution"
   ]
  },
  {
   "cell_type": "markdown",
   "metadata": {},
   "source": [
    "First of all, need to know what is its binomial coefficient:\n",
    "\\begin{equation}\n",
    "   \\binom {n}{k} = \\frac{n!}{(n - k)!k!}\n",
    "\\end{equation}\n",
    "\n",
    "For this formula I use function binom from scipy"
   ]
  },
  {
   "cell_type": "code",
   "execution_count": 1,
   "metadata": {},
   "outputs": [],
   "source": [
    "from scipy.special import binom\n",
    "\n",
    "color = 7 # number of each unique color\n",
    "num_balls_cl = 10 # number of balls for each unique color\n",
    "cl_balls = 70 # all balls\n",
    "picked = 20 # number of randomly picked balls"
   ]
  },
  {
   "cell_type": "markdown",
   "metadata": {},
   "source": [
    "First I calculate probability for each color from 7 color\n",
    "\n",
    "Let's culculate probability the probability that 20 out of 70 will be pr_a\n",
    "\n",
    "the probability that 20 out of 70 are actually taken from a set of only 60 balls will be pr_b"
   ]
  },
  {
   "cell_type": "code",
   "execution_count": 2,
   "metadata": {},
   "outputs": [],
   "source": [
    "pr_a = binom(cl_balls, picked)\n",
    "pr_b = binom(cl_balls - num_balls_cl, picked)"
   ]
  },
  {
   "cell_type": "markdown",
   "metadata": {},
   "source": [
    "the probability that this color was picked and opposite"
   ]
  },
  {
   "cell_type": "code",
   "execution_count": 3,
   "metadata": {},
   "outputs": [],
   "source": [
    "pr = (pr_b/pr_a)\n",
    "probability = 1 - pr"
   ]
  },
  {
   "cell_type": "markdown",
   "metadata": {},
   "source": [
    "Now probability for 7 colors"
   ]
  },
  {
   "cell_type": "code",
   "execution_count": 4,
   "metadata": {},
   "outputs": [
    {
     "name": "stdout",
     "output_type": "stream",
     "text": [
      "Answer = 6.818741802019762\n"
     ]
    }
   ],
   "source": [
    "result = 7 * probability\n",
    "print('Answer =', result)"
   ]
  }
 ],
 "metadata": {
  "kernelspec": {
   "display_name": "Python 3",
   "language": "python",
   "name": "python3"
  },
  "language_info": {
   "codemirror_mode": {
    "name": "ipython",
    "version": 3
   },
   "file_extension": ".py",
   "mimetype": "text/x-python",
   "name": "python",
   "nbconvert_exporter": "python",
   "pygments_lexer": "ipython3",
   "version": "3.7.1"
  }
 },
 "nbformat": 4,
 "nbformat_minor": 2
}
